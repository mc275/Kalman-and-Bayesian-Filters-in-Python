{
 "cells": [
  {
   "cell_type": "markdown",
   "metadata": {},
   "source": [
    "## 贝叶斯概率"
   ]
  },
  {
   "cell_type": "markdown",
   "metadata": {},
   "source": [
    "## 链式规则\n",
    "描述联合分布与其中的随机变量的条件概率的关系\n",
    "\\begin{equation}\n",
    "P(X_1,X_2,...,X_n) = P(X_1)P(X_2\\ |\\ X_1)\\cdots P(X_n\\ |\\ X_1,X_2,...,X_n-1)\n",
    "\\end{equation}"
   ]
  },
  {
   "cell_type": "markdown",
   "metadata": {},
   "source": [
    "## 条件独立\n",
    "随机变量X,Y在给定Z时独立\n",
    "\\begin{equation}\n",
    "P(X,Y\\ |\\ Z) = P(X\\ |\\ Z)P(Y\\ |\\ Z)\n",
    "\\end{equation}"
   ]
  },
  {
   "cell_type": "markdown",
   "metadata": {},
   "source": [
    "## 贝叶斯公式\n",
    "描述先验概率$P(H=h)$和后验概率$P(H=h\\ \\vert \\  E=e)$的关系\n",
    "\\begin{equation}\n",
    "P(H=h\\ |\\ E=e) = { P(H=h) P(E=e\\ |\\ H=h) \\over P(E=e)}\n",
    "\\end{equation}"
   ]
  }
 ],
 "metadata": {
  "anaconda-cloud": {},
  "kernelspec": {
   "display_name": "Python [default]",
   "language": "python",
   "name": "python3"
  },
  "language_info": {
   "codemirror_mode": {
    "name": "ipython",
    "version": 3
   },
   "file_extension": ".py",
   "mimetype": "text/x-python",
   "name": "python",
   "nbconvert_exporter": "python",
   "pygments_lexer": "ipython3",
   "version": "3.5.2"
  }
 },
 "nbformat": 4,
 "nbformat_minor": 1
}
